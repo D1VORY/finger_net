{
  "nbformat": 4,
  "nbformat_minor": 0,
  "metadata": {
    "colab": {
      "name": "fingerModel.ipynb",
      "provenance": [],
      "collapsed_sections": []
    },
    "kernelspec": {
      "name": "python3",
      "display_name": "Python 3"
    },
    "accelerator": "GPU"
  },
  "cells": [
    {
      "cell_type": "code",
      "metadata": {
        "id": "tn_dlBT59BQ3",
        "colab_type": "code",
        "outputId": "471e60e6-efcf-4f05-dd63-b40ebbd1d89f",
        "colab": {
          "base_uri": "https://localhost:8080/",
          "height": 34
        }
      },
      "source": [
        "import numpy as np\n",
        "import keras\n",
        "from keras import layers\n",
        "from keras.layers import Input, Dense, Activation, ZeroPadding2D, BatchNormalization, Flatten, Conv2D\n",
        "from keras.layers import AveragePooling2D, MaxPooling2D, Dropout, GlobalMaxPooling2D, GlobalAveragePooling2D\n",
        "from keras.models import Model\n",
        "from keras import optimizers\n",
        "from keras.preprocessing import image\n",
        "from keras.utils import layer_utils\n",
        "from keras.utils.data_utils import get_file\n",
        "from keras.applications.imagenet_utils import preprocess_input\n",
        "from keras.utils.vis_utils import plot_model\n",
        "#import pydot\n",
        "\n",
        "from keras.utils.vis_utils import model_to_dot\n",
        "from keras.utils import plot_model\n",
        "from keras import optimizers\n",
        "\n",
        "import keras.backend as K\n",
        "K.set_image_data_format('channels_last')\n",
        "import matplotlib.pyplot as plt\n",
        "from matplotlib.pyplot import imshow\n",
        "\n",
        "from sklearn.model_selection import train_test_split"
      ],
      "execution_count": 0,
      "outputs": [
        {
          "output_type": "stream",
          "text": [
            "Using TensorFlow backend.\n"
          ],
          "name": "stderr"
        }
      ]
    },
    {
      "cell_type": "code",
      "metadata": {
        "id": "JEHyNYafSjiy",
        "colab_type": "code",
        "colab": {}
      },
      "source": [
        "model = keras.models.load_model(\"/content/drive/My Drive/datasets/fingerModel_CSW4.h5\")\n",
        "\n",
        "model.summary()\n",
        "plot_model(model, to_file='model_plot.png', show_shapes=True, show_layer_names=True)"
      ],
      "execution_count": 0,
      "outputs": []
    },
    {
      "cell_type": "code",
      "metadata": {
        "id": "5bPdkEXF9vRp",
        "colab_type": "code",
        "colab": {}
      },
      "source": [
        "\n",
        "\n",
        "def fingerModel(input_shape):\n",
        "    X_input = keras.Input(input_shape)\n",
        "\n",
        "    print(\"SHAPE =\", X_input.shape)\n",
        "    X = Conv2D(64, (7, 7), strides=(1, 1))(X_input)\n",
        "    X = BatchNormalization(axis=3)(X)\n",
        "    X = Activation('relu')(X)\n",
        "   # X = MaxPooling2D((2, 2), strides=(2, 2), padding = 'valid')(X)\n",
        "    print(\"SHAPE2 =\", X.shape)\n",
        "    #X = Dropout(0.5)(X)\n",
        "\n",
        "    X = Conv2D(128, (7, 7) )(X)\n",
        "    X = BatchNormalization(axis=3)(X)\n",
        "    X = Activation('relu')(X)\n",
        "    X = Dropout(0.5)(X)\n",
        "    print(\"SHAPE4 =\", X.shape)\n",
        "\n",
        "\n",
        "    X = Conv2D(32, (5, 5))(X)\n",
        "    X = BatchNormalization(axis=3)(X)\n",
        "    X = Activation('relu')(X)\n",
        "    X = Dropout(0.5)(X)\n",
        "    # print(\"SHAPE4 =\", X.shape)\n",
        "    \n",
        "    X = Conv2D(32, (5, 5))(X)\n",
        "    X = BatchNormalization(axis=3)(X)\n",
        "    X = Activation('relu')(X)\n",
        "    X = Dropout(0.5)(X)\n",
        "    print(\"SHAPE4 =\", X.shape)\n",
        "\n",
        "    X = Conv2D(32, (5, 5))(X)\n",
        "    X = BatchNormalization(axis=3)(X)\n",
        "    X = Activation('relu')(X)\n",
        "    X = Dropout(0.5)(X)\n",
        "    print(\"SHAPE4 =\", X.shape)\n",
        "    \n",
        "    #X = MaxPooling2D((3, 3), strides=(3, 3))(X)\n",
        "\n",
        "    print(\"SHAPE6 =\", X.shape)\n",
        "    #X = Flatten()(X)\n",
        " \n",
        "    #X = Dense(512, activation='relu')(X)\n",
        "    X = Conv2D(512,(6,6),activation='relu')(X)\n",
        "    X = Dropout(0.5)(X)\n",
        "\n",
        "    # #X = Dense(256, activation='relu')(X)\n",
        "    X = Conv2D(256,(1,1),activation='relu')(X)\n",
        "    X = Dropout(0.5)(X)\n",
        "\n",
        "\n",
        "    #X = Dense(1, activation='sigmoid')(X)\n",
        "    X = Conv2D(1,(1,1),activation='sigmoid')(X)\n",
        "    \n",
        "    model = Model(inputs=X_input, outputs=X, name='FingerNet')\n",
        "\n",
        "\n",
        "    return model"
      ],
      "execution_count": 0,
      "outputs": []
    },
    {
      "cell_type": "code",
      "metadata": {
        "id": "J5kLXdSc97rQ",
        "colab_type": "code",
        "colab": {}
      },
      "source": [
        "\n",
        "datasetX = np.load('/content/drive/My Drive/datasets/x_data8.npy')\n",
        "datasetY = np.load('/content/drive/My Drive/datasets/y_data8.npy')\n",
        "\n",
        "normalizedDatasetX = datasetX / 255.\n",
        "normalizedDatasetY = np.reshape(datasetY, (datasetY.shape[0],1,1,1))\n",
        "#normalizedDatasetY = np.reshape(datasetY, (datasetY.shape[0],1))\n",
        "\n",
        "\n"
      ],
      "execution_count": 0,
      "outputs": []
    },
    {
      "cell_type": "code",
      "metadata": {
        "id": "AHa6hVKD-Afu",
        "colab_type": "code",
        "colab": {}
      },
      "source": [
        "\n",
        "x_train, x_test, y_train, y_test = train_test_split(normalizedDatasetX, normalizedDatasetY, test_size=0.1)\n",
        "#print(x_train[1])\n",
        "print(x_train.shape)\n",
        "print(y_train.shape)\n",
        "fingerModel = fingerModel((None,None,1))\n",
        "\n",
        "fingerModel.compile(optimizer = optimizers.Adam(),loss = \"binary_crossentropy\",metrics = [\"accuracy\"])\n",
        "\n",
        "fingerModel.summary()\n",
        "plot_model(fingerModel, to_file='model_plot.png', show_shapes=True, show_layer_names=True)"
      ],
      "execution_count": 0,
      "outputs": []
    },
    {
      "cell_type": "code",
      "metadata": {
        "id": "JXDVzPotJ7hH",
        "colab_type": "code",
        "colab": {}
      },
      "source": [
        "fingerModel.load_weights('/content/drive/My Drive/datasets/model.h5')"
      ],
      "execution_count": 0,
      "outputs": []
    },
    {
      "cell_type": "code",
      "metadata": {
        "id": "uYSHselz-CxS",
        "colab_type": "code",
        "colab": {}
      },
      "source": [
        "\n",
        "history = fingerModel.fit(x_train, y_train,epochs = 25, batch_size = 16 )"
      ],
      "execution_count": 0,
      "outputs": []
    },
    {
      "cell_type": "code",
      "metadata": {
        "id": "vm3tqB4QiFJB",
        "colab_type": "code",
        "outputId": "1ba24fd8-1ef0-45ac-c53d-1809a91339bd",
        "colab": {
          "base_uri": "https://localhost:8080/",
          "height": 306
        }
      },
      "source": [
        "es_callback = keras.callbacks.EarlyStopping(monitor='val_loss', patience=3)\n",
        "\n",
        "history = fingerModel.fit(x_train, y_train,epochs = 10, batch_size = 32,validation_split = 0.2,  callbacks=[es_callback])"
      ],
      "execution_count": 0,
      "outputs": [
        {
          "output_type": "stream",
          "text": [
            "Train on 13226 samples, validate on 3307 samples\n",
            "Epoch 1/10\n",
            "13226/13226 [==============================] - 15s 1ms/step - loss: 0.2370 - accuracy: 0.9027 - val_loss: 0.2790 - val_accuracy: 0.8800\n",
            "Epoch 2/10\n",
            "13226/13226 [==============================] - 14s 1ms/step - loss: 0.1046 - accuracy: 0.9666 - val_loss: 0.0994 - val_accuracy: 0.9649\n",
            "Epoch 3/10\n",
            "13226/13226 [==============================] - 14s 1ms/step - loss: 0.0747 - accuracy: 0.9758 - val_loss: 0.0514 - val_accuracy: 0.9816\n",
            "Epoch 4/10\n",
            "13226/13226 [==============================] - 14s 1ms/step - loss: 0.0717 - accuracy: 0.9790 - val_loss: 0.0502 - val_accuracy: 0.9822\n",
            "Epoch 5/10\n",
            "13226/13226 [==============================] - 14s 1ms/step - loss: 0.0577 - accuracy: 0.9809 - val_loss: 0.0436 - val_accuracy: 0.9840\n",
            "Epoch 6/10\n",
            "13226/13226 [==============================] - 14s 1ms/step - loss: 0.0590 - accuracy: 0.9825 - val_loss: 0.0453 - val_accuracy: 0.9864\n",
            "Epoch 7/10\n",
            "13226/13226 [==============================] - 14s 1ms/step - loss: 0.0527 - accuracy: 0.9839 - val_loss: 0.0459 - val_accuracy: 0.9867\n",
            "Epoch 8/10\n",
            "13226/13226 [==============================] - 14s 1ms/step - loss: 0.0455 - accuracy: 0.9863 - val_loss: 0.0443 - val_accuracy: 0.9879\n"
          ],
          "name": "stdout"
        }
      ]
    },
    {
      "cell_type": "code",
      "metadata": {
        "id": "hEdTxCyvqZMs",
        "colab_type": "code",
        "outputId": "81ae0105-f797-454b-9e0a-dc4c0166f624",
        "colab": {
          "base_uri": "https://localhost:8080/",
          "height": 295
        }
      },
      "source": [
        "plt.plot(history.history['accuracy'])\n",
        "plt.plot(history.history['val_accuracy'])\n",
        "plt.title('Model accuracy')\n",
        "plt.ylabel('Accuracy')\n",
        "plt.xlabel('Epoch')\n",
        "plt.legend(['Train', 'Test'], loc='upper left')\n",
        "plt.show()"
      ],
      "execution_count": 0,
      "outputs": [
        {
          "output_type": "display_data",
          "data": {
            "image/png": "[encoded data removed]",
            "text/plain": [
              "<Figure size 432x288 with 1 Axes>"
            ]
          },
          "metadata": {
            "tags": [],
            "needs_background": "light"
          }
        }
      ]
    },
    {
      "cell_type": "code",
      "metadata": {
        "id": "_nvRS6rkCQ6B",
        "colab_type": "code",
        "outputId": "6f641a2f-1937-4f89-d622-7d88048b2ec0",
        "colab": {
          "base_uri": "https://localhost:8080/",
          "height": 68
        }
      },
      "source": [
        "preds = fingerModel.evaluate(x_test, y_test)\n",
        "### END CODE HERE ###\n",
        "\n",
        "print (\"Loss = \" + str(preds[0]))\n",
        "print (\"Test Accuracy = \" + str(preds[1]))"
      ],
      "execution_count": 0,
      "outputs": [
        {
          "output_type": "stream",
          "text": [
            "1837/1837 [==============================] - 1s 317us/step\n",
            "Loss = 0.02506492341268822\n",
            "Test Accuracy = 0.9934676289558411\n"
          ],
          "name": "stdout"
        }
      ]
    },
    {
      "cell_type": "code",
      "metadata": {
        "id": "CQKnUroHhGI5",
        "colab_type": "code",
        "colab": {}
      },
      "source": [
        "fingerModel.summary()"
      ],
      "execution_count": 0,
      "outputs": []
    },
    {
      "cell_type": "code",
      "metadata": {
        "id": "P-IvWxnLcYOK",
        "colab_type": "code",
        "colab": {}
      },
      "source": [
        "fingerModel.save(\"/content/drive/My Drive/datasets/fingerModel_CSW6.h5\")"
      ],
      "execution_count": 0,
      "outputs": []
    }
  ]
}